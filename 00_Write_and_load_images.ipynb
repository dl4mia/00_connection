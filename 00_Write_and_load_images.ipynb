{
 "cells": [
  {
   "cell_type": "markdown",
   "id": "be05cf7c",
   "metadata": {},
   "source": [
    "# Write and load images\n",
    "\n",
    "Writing, loading and displaying images are necessary components of the scientific python toolbox for microscopy. In this notebook, we just present some aspects of `jupyter notebooks`, before playing around with images. \n",
    "\n",
    "This notebook is a simple introduction and is not mandatory for the rest of the course, it helps getting into the flow and maybe learning about some new tools."
   ]
  },
  {
   "cell_type": "markdown",
   "id": "044623e8",
   "metadata": {},
   "source": [
    "## 0 - The first cell\n",
    "\n",
    "Click on the first cell with code and press `shift+enter` to run a single cell. You have more options and shortcuts in the `Edit` and `Cell` menus."
   ]
  },
  {
   "cell_type": "code",
   "execution_count": null,
   "id": "163cae1d",
   "metadata": {},
   "outputs": [],
   "source": [
    "def decode(s):\n",
    "    '''\n",
    "    Decode hexadecimal messages.\n",
    "    '''\n",
    "    return bytes.fromhex(s)"
   ]
  },
  {
   "cell_type": "code",
   "execution_count": null,
   "id": "6dce3295",
   "metadata": {},
   "outputs": [],
   "source": [
    "message = \"4C 65 74 27 73 20 73 74 61 72 74 21\"\n",
    "\n",
    "print(decode(message))"
   ]
  },
  {
   "cell_type": "markdown",
   "id": "ca49473a",
   "metadata": {},
   "source": [
    "## 1 - Creating an image with numpy\n",
    "\n",
    "In this first real python exercise, we are going to create a `numpy` array representing a 3D stack and learn how to show it in the `jupyter notebook`. Run the first cell to add the function definition to the current session."
   ]
  },
  {
   "cell_type": "code",
   "execution_count": null,
   "id": "7e4ee65b",
   "metadata": {},
   "outputs": [],
   "source": [
    "import numpy as np\n",
    "\n",
    "# This unecessarily complicated, you don't have to understand the function to continue\n",
    "def get_3D_gaussian(delta_z, size_xy=255, std_xy=20., std_z=3., a0=255):    \n",
    "    '''\n",
    "    Return a 2D Gaussian whose standard deviation and amplitude depend on the \n",
    "    distance to the central plane z=0.\n",
    "    \n",
    "    Basically some sort of PSF.\n",
    "\n",
    "            Parameters:\n",
    "                    size_xy (int): Size of the slice in X and Y directions\n",
    "                    delta_z (int): Distance of the slice to the center (positive \n",
    "                                   or negative)\n",
    "                    a0 (int): Maximum amplitude of the Gaussian. \n",
    "                    std_xy (float): Standard deviation in pixels of the Gaussian \n",
    "                                    in the X and Y directions.\n",
    "                    std_z (float): Standard deviation in pixels of the Gaussian \n",
    "                                   amplitude in the Z direction.\n",
    "\n",
    "            Returns:\n",
    "                    XY slice\n",
    "    '''\n",
    "    \n",
    "    # let's create a grid of values: n+1 values ranging from 0 to n\n",
    "    n = size_xy\n",
    "    grid = np.linspace(0, n, n+1)\n",
    "    \n",
    "    # create a meshgrid\n",
    "    x, y = np.meshgrid(grid, grid)\n",
    "    \n",
    "    # distance to the center of the grid\n",
    "    delta_x = x - size_xy / 2\n",
    "    delta_y = y - size_xy / 2\n",
    "    d_xy = np.sqrt(delta_x*delta_x+delta_y*delta_y)\n",
    "    \n",
    "    # effective standard deviation (small at z=0, larger with distance to the center plane)\n",
    "    std_xy_eff = std_xy * ( abs(delta_z) + 0.5)\n",
    "    \n",
    "    # compute Gaussian in XY\n",
    "    xy_gauss = np.exp(-( d_xy**2 / (2.0 * std_xy_eff**2 ) ) )\n",
    "    \n",
    "    # compute a z-dependent amplitude term\n",
    "    amplitude = a0 * np.exp(-( delta_z**2 / (2.0 * std_z**2 ) ) )\n",
    "    \n",
    "    # return the image with integer values\n",
    "    return (xy_gauss * amplitude).astype(np.int16)"
   ]
  },
  {
   "cell_type": "markdown",
   "id": "09e6b021",
   "metadata": {},
   "source": [
    "Let's now call this function to get a single slice:"
   ]
  },
  {
   "cell_type": "code",
   "execution_count": null,
   "id": "568a8f17",
   "metadata": {},
   "outputs": [],
   "source": [
    "#######################################################\n",
    "##### exercise: call the get_3D_gaussian function #####\n",
    "\n",
    "single_img = get_3D_gaussian(-5)\n",
    "print(single_img[0:5, 0:5])  # hopefully, it is not just zeroes"
   ]
  },
  {
   "cell_type": "markdown",
   "id": "211c43c6",
   "metadata": {},
   "source": [
    "Plotting numbers is not the best way to visualize numpy arrays. We can use `matplotlib` to see the array as an **image**. "
   ]
  },
  {
   "cell_type": "code",
   "execution_count": null,
   "id": "2eb2af2f",
   "metadata": {},
   "outputs": [],
   "source": [
    "import matplotlib.pyplot as plt\n",
    "\n",
    "######################################################\n",
    "##### exercise: plot single_img using matplotlib #####\n",
    "\n",
    "plt.imshow(single_img)"
   ]
  },
  {
   "cell_type": "markdown",
   "id": "fee2ac35",
   "metadata": {},
   "source": [
    "Often we need to deal with multidimensional images, and since the `get_3D_gaussian` function output is z-dependent, let's create a **stack** with different z-slices."
   ]
  },
  {
   "cell_type": "code",
   "execution_count": null,
   "id": "10b4a6b9",
   "metadata": {},
   "outputs": [],
   "source": [
    "###############################################\n",
    "##### exercise: generate a list of images #####\n",
    "#####                                     #####\n",
    "##### hint: look at the first few lines   #####\n",
    "#####       of get_3D_gaussian            #####\n",
    "\n",
    "dzs = np.linspace(-5, 5, 11)\n",
    "imgs = [get_3D_gaussian(d) for d in dzs]"
   ]
  },
  {
   "cell_type": "markdown",
   "id": "947f7c0d",
   "metadata": {},
   "source": [
    "Here is a more complicated function to plot images. Since we have a list of images, we would like to be able to compare them side by side."
   ]
  },
  {
   "cell_type": "code",
   "execution_count": null,
   "id": "c51b885b",
   "metadata": {},
   "outputs": [],
   "source": [
    "def plot_images_list(images, titles=None, max_value=255):\n",
    "    '''\n",
    "    Plot images i.\n",
    "\n",
    "            Parameters:\n",
    "                    images (list): List of 2D numpy arrays\n",
    "                    titles (list): \n",
    "                    max_value (float): Maximum amplitude of the Gaussian.\n",
    "    '''\n",
    "    \n",
    "    # some flexible parameters to adapt the number of rows/cols and size\n",
    "    root = np.sqrt( len( images ) ).astype(int)\n",
    "    size = 50 / root  # arbitrary\n",
    "\n",
    "    # if no title was given\n",
    "    if titles is None:\n",
    "        titles = [i for i in range( len(images) )]\n",
    "    \n",
    "    # create subplots\n",
    "    fig, axs = plt.subplots(root, root, figsize=(10, 10))\n",
    "    \n",
    "    # now we populate the subplots with images\n",
    "    for i, ax in enumerate(axs.flatten()):\n",
    "        \n",
    "        if i < len(imgs):\n",
    "            # show image\n",
    "            ax.imshow(imgs[i], vmin=0, vmax=max_value)\n",
    "            \n",
    "            # add title\n",
    "            ax.set_title(titles[i])\n",
    "        else:\n",
    "            # in case the number of suplots is larger than the number of elements in images\n",
    "            ax.remove()\n",
    "    plt.show()\n"
   ]
  },
  {
   "cell_type": "markdown",
   "id": "54746cfc",
   "metadata": {},
   "source": [
    "Let's use the previous function to plot all the slices."
   ]
  },
  {
   "cell_type": "code",
   "execution_count": null,
   "id": "bffa0741",
   "metadata": {},
   "outputs": [],
   "source": [
    "###########################################################\n",
    "##### exercise:                                       #####\n",
    "#####   - generate meaningful titles for each subplot #####\n",
    "#####   - use plot_images_list to plot the images     #####\n",
    "\n",
    "\n",
    "titles = ['z={}'.format(z) for z in dzs]\n",
    "plot_images_list(imgs, titles)\n",
    "\n",
    "###########################################################\n",
    "##### Question: the images can be compared because they are\n",
    "##### plotted with a fixed contrast. Can you see where this\n",
    "##### happens?"
   ]
  },
  {
   "cell_type": "markdown",
   "id": "fd3561b9",
   "metadata": {},
   "source": [
    "Now, let's create a real stack instead of a list of images."
   ]
  },
  {
   "cell_type": "code",
   "execution_count": null,
   "id": "0de9e1fb",
   "metadata": {},
   "outputs": [],
   "source": [
    "###############################################################\n",
    "##### exercise: create a single numpy array from the list #####\n",
    "#####                                                     #####\n",
    "##### hint: search how to stack arrays of same dimension  ##### \n",
    "\n",
    "stack = np.stack(imgs)\n",
    "print(f'Shape of the stack: {stack.shape}')"
   ]
  },
  {
   "cell_type": "markdown",
   "id": "b9eed794",
   "metadata": {},
   "source": [
    "## 2 - Saving a numpy array\n",
    "\n",
    "The most convenient way to save a `numpy` array is simply to do use the save and load function from `numpy`."
   ]
  },
  {
   "cell_type": "code",
   "execution_count": null,
   "id": "2b72c1fd",
   "metadata": {},
   "outputs": [],
   "source": [
    "import os\n",
    "from pathlib import Path\n",
    "\n",
    "# create a data directory\n",
    "data = 'Data'\n",
    "if not Path(data).exists():\n",
    "    os.mkdir('Data')\n",
    "\n",
    "# save the image\n",
    "path = os.path.join(data, 'my_stack.npy')\n",
    "np.save(path, stack)\n",
    "\n",
    "# and load it again\n",
    "loaded_stack = np.load(path)\n",
    "\n",
    "# check that they are the same (we compare each value in the arrays)\n",
    "# if no error is thrown, then they are the same!\n",
    "assert (loaded_stack == stack).all()"
   ]
  },
  {
   "cell_type": "markdown",
   "id": "b847a887",
   "metadata": {},
   "source": [
    "## 3 - Saving and loading tiffs\n",
    "\n",
    "While `.npy` are convenient, they are not typically read by other software or languages. For instance, they would not be convenient to open in ImageJ2/Fiji or add to a presentation. Tiffs are a popular format because they allow multi-dimensional images, extensive metadata and are usually not (lossy) compressed.\n",
    "\n",
    "There are many packages to load and save tiffs in Python. We do not have time to review them all, but the differences will be whether they allow multidimensional images or reading/writing metadata. Also interesting are packages that can load other image formats.\n",
    "\n",
    "Here is a (non-exhausitve) list of packages used to load tiffs (and other formats):\n",
    "- [tifffile](https://pypi.org/project/tifffile/)\n",
    "- [skimage](https://scikit-image.org/docs/dev/api/skimage.io.html#skimage.io.imread) (scikit-image)\n",
    "- [aicsimageio](https://allencellmodeling.github.io/aicsimageio/) \n",
    "- [python-bioformats](https://pythonhosted.org/python-bioformats/)\n",
    "- [pyimagej](https://pyimagej.readthedocs.io/en/latest/) \n",
    "- [pillow (PIL)](https://pypi.org/project/Pillow/)\n",
    "\n",
    "For simplicity we will use `tifffile` here. `tifffile` allows reading/writing multidimensional arrays and metada (to some extent)."
   ]
  },
  {
   "cell_type": "code",
   "execution_count": null,
   "id": "afbd15a6",
   "metadata": {},
   "outputs": [],
   "source": [
    "from tifffile import imwrite\n",
    "\n",
    "##############################################\n",
    "##### exercise: save the stack as a tiff #####\n",
    "\n",
    "path = os.path.join(data, 'my_stack.tif')\n",
    "imwrite(path, stack)\n",
    "\n",
    "# check if successful\n",
    "assert Path(path).exists()"
   ]
  },
  {
   "cell_type": "code",
   "execution_count": null,
   "id": "74370840",
   "metadata": {},
   "outputs": [],
   "source": [
    "from tifffile import imread\n",
    "\n",
    "#####################################################\n",
    "##### exercise: read the stack and plot a slice #####\n",
    "\n",
    "loaded_tiff = imread(path)\n",
    "\n",
    "# check that it is the same as the stack\n",
    "assert (loaded_stack == stack).all()  \n",
    "\n",
    "# does that mean that tiffile returns a numpy array?\n",
    "print(f'Type of the object returned by tiffile: {type(loaded_tiff)}')\n",
    "\n",
    "# plot a slice\n",
    "plt.imshow(loaded_tiff[5, ...])"
   ]
  },
  {
   "cell_type": "code",
   "execution_count": null,
   "id": "680bcbd8",
   "metadata": {},
   "outputs": [],
   "source": [
    "# For fun, let's run this line:\n",
    "plt.plot(loaded_tiff[5, 100:150, :])\n",
    "\n",
    "# What is happening? What is plotted?"
   ]
  },
  {
   "cell_type": "markdown",
   "id": "56d19186",
   "metadata": {},
   "source": [
    "## 4 - Other ways to plot\n",
    "\n",
    "While `matplotlib` is the most common ways of visualizing numpy arrays and images, other alternatives have emerged (beyond `jupyter notebooks`). \n",
    "\n",
    "\n",
    "### napari\n",
    "\n",
    "One that should be mentioned is `napari`, which is a N-dimensional image visualization tool. [napari](https://napari.org/) is a full software through which you can install plugins (among which the algorithms that you will use during this course). To a certain extent, `napari` can be used within `jupyter notebooks`. The most common way to use `napari` is to simply start it from the console.\n",
    "\n",
    "<img src=\"https://napari.org/_images/launch_cli_image.png\" width=\"800\" alt=\"napari\"/>\n",
    "\n",
    "\n",
    "### itkwidgets\n",
    "\n",
    "\n",
    "Another way, that is specifically integrated with `jupyter notebooks`, is `itkwidgets`.\n",
    "\n",
    "Now...\n",
    "\n",
    "...\n",
    "\n",
    "...\n",
    "\n",
    "\n",
    "... prepare your mind to be blown away. Run the next cell:"
   ]
  },
  {
   "cell_type": "code",
   "execution_count": null,
   "id": "900a7604",
   "metadata": {},
   "outputs": [],
   "source": [
    "from itkwidgets import view\n",
    "from scipy import ndimage\n",
    "\n",
    "# Your stack (probably) has a smaller z than x and y, which will lead in 3D to a very squished stack. \n",
    "# Let's pretend we know the pixel size and resize the stack:\n",
    "pixel_size = (1, 0.1, 0.1)  # (z, x, y)\n",
    "real_stack = ndimage.zoom(stack, pixel_size, order=0)\n",
    "\n",
    "# It might take a while\n",
    "view(real_stack, rotate=True, axes=True, gradient_opacity=0.9)"
   ]
  },
  {
   "cell_type": "markdown",
   "id": "0113bee5",
   "metadata": {},
   "source": [
    "That's it for now!"
   ]
  }
 ],
 "metadata": {
  "kernelspec": {
   "display_name": "Python 3 (ipykernel)",
   "language": "python",
   "name": "python3"
  },
  "language_info": {
   "codemirror_mode": {
    "name": "ipython",
    "version": 3
   },
   "file_extension": ".py",
   "mimetype": "text/x-python",
   "name": "python",
   "nbconvert_exporter": "python",
   "pygments_lexer": "ipython3",
   "version": "3.9.0"
  }
 },
 "nbformat": 4,
 "nbformat_minor": 5
}
